{
 "cells": [
  {
   "cell_type": "code",
   "execution_count": 94,
   "metadata": {},
   "outputs": [],
   "source": [
    "from urllib.parse import urljoin\n",
    "import datetime as datetime\n",
    "import numpy as np\n",
    "import pandas as pd\n",
    "import matplotlib.pyplot as plt\n",
    "import matplotlib as mpl\n",
    "import seaborn as sns\n",
    "import csv\n",
    "from csv import reader\n",
    "import numpy as np \n",
    "import pandas as pd\n",
    "from sklearn.impute import SimpleImputer\n",
    "from sklearn.model_selection import train_test_split\n",
    "from sklearn.compose import ColumnTransformer\n",
    "from sklearn.pipeline import Pipeline\n",
    "from sklearn.preprocessing import OneHotEncoder\n",
    "from sklearn.ensemble import RandomForestRegressor\n",
    "from sklearn.metrics import mean_absolute_error\n",
    "from xgboost import XGBRegressor\n",
    "from sklearn.linear_model import LassoCV,RidgeCV,ElasticNetCV\n",
    "from sklearn import metrics \n",
    "from sklearn.preprocessing import RobustScaler\n",
    "from sklearn.ensemble import GradientBoostingRegressor\n",
    "from sklearn.pipeline import make_pipeline\n",
    "from sklearn.model_selection import KFold\n",
    "from sklearn.model_selection import GridSearchCV, cross_val_score\n",
    "import warnings\n",
    "warnings.filterwarnings(\"ignore\")\n",
    "pd.set_option('display.max_columns', None)\n",
    "import matplotlib.pyplot as plt\n",
    "import seaborn as sns\n",
    "sns.set()\n",
    "from scipy import stats\n",
    "from scipy.stats import norm, skew\n",
    "from scipy.special import boxcox1p\n",
    "from scipy.stats import boxcox_normmax\n",
    "import lightgbm as lgb\n",
    "from lightgbm import LGBMRegressor\n",
    "import xgboost as xgb\n",
    "from xgboost import XGBRegressor\n",
    "from mlxtend.regressor import StackingCVRegressor\n",
    "from sklearn.ensemble import RandomForestRegressor\n",
    "from sklearn.model_selection import train_test_split\n",
    "from sklearn.preprocessing import StandardScaler\n",
    "\n",
    "import numpy as np\n",
    "import pandas as pd \n",
    "import math"
   ]
  },
  {
   "cell_type": "code",
   "execution_count": 16,
   "metadata": {},
   "outputs": [],
   "source": [
    "def make_dt_index(df, timestamp_col, dt_offset=None):\n",
    "    df.index = pd.to_datetime(\n",
    "        df.loc[:, timestamp_col], format='%Y-%m-%dT%H:%M:%S.%f'\n",
    "    )\n",
    "\n",
    "    if dt_offset:\n",
    "        df.index = df.index + dt_offset\n",
    "\n",
    "    df.drop(timestamp_col, axis=1, inplace=True)\n",
    "\n",
    "    df.sort_index(inplace=True)\n",
    "\n",
    "    return df\n",
    "\n",
    "\n",
    "def check_duplicate_index(df, verbose=True):\n",
    "    \"\"\" checks for duplicates in the index of a dataframe \"\"\"\n",
    "    dupes = df[df.index.duplicated()]\n",
    "    num = dupes.shape[0]\n",
    "    print('{} index duplicates'.format(num))\n",
    "\n",
    "    if verbose == True:\n",
    "        print('duplicates are:')\n",
    "        print(dupes.head(3))\n",
    "\n",
    "    return df[df.index.duplicated(keep=False)]\n",
    "\n",
    "\n",
    "def drop_duplicate_index(df):\n",
    "    return df[~df.index.duplicated(keep='first')]\n",
    "\n",
    "\n",
    "def check_duplicate_rows(df, verbose=True):\n",
    "    duplicated_bools = df.duplicated()\n",
    "    num = np.sum(duplicated_bools)\n",
    "    print('{} row duplicates'.format(num))\n",
    "\n",
    "    if verbose:\n",
    "        df[duplicated_bools].head(3)\n",
    "\n",
    "    return df[df.duplicated(keep=False)]\n",
    "\n",
    "\n",
    "def check_nans(df, verbose=True):\n",
    "    \"\"\" checks for NANs in a dataframe \"\"\"\n",
    "    nans = df[df.isnull().any(axis=1)]\n",
    "    num = nans.shape[0]\n",
    "\n",
    "    print('{} nan rows'.format(num))\n",
    "    if verbose:\n",
    "        print('nan values are:')\n",
    "        print(nans.head())\n",
    "\n",
    "    return nans\n",
    "\n",
    "\n",
    "def check_index_length(df, freq, verbose=True):\n",
    "    \"\"\" compare a DatetimeIndex with the expected length \"\"\"\n",
    "    ideal = pd.DatetimeIndex(start=df.index[0],\n",
    "                             end=df.index[-1],\n",
    "                             freq=freq)\n",
    "\n",
    "    ideal_len = ideal.shape[0]\n",
    "    actual_len = df.shape[0]\n",
    "    num_missing = ideal_len - actual_len\n",
    "    print('ideal index len {} actual {} missing {}'.format(\n",
    "        ideal_len, actual_len, num_missing))\n",
    "\n",
    "    if ideal.shape[0] != df.shape[0]:\n",
    "        missing = set(df.index).symmetric_difference(set(ideal))\n",
    "\n",
    "        if verbose:\n",
    "            print('missing are:')\n",
    "            print(missing)\n",
    "\n",
    "        return missing, ideal\n",
    "\n",
    "    else:\n",
    "        return None, df.index\n",
    "\n",
    "\n",
    "def make_df_fill_dt_index(df, freq, method='ffill'):\n",
    "\n",
    "    missing, ideal = check_index_length(df, freq)\n",
    "\n",
    "    ideal_idx_df = pd.DataFrame(index=ideal)\n",
    "\n",
    "    df = pd.concat([ideal_idx_df, df], axis=1)\n",
    "\n",
    "    return df.fillna(method=method)\n",
    "\n",
    "\n",
    "def check_dataframe(df, freq, verbose=False):\n",
    "    \"\"\" wraps together all the checks \"\"\"\n",
    "    duplicate_index = check_duplicate_index(df, verbose)\n",
    "\n",
    "    duplicate_rows = check_duplicate_rows(df, verbose)\n",
    "\n",
    "    nans = check_nans(df, verbose)\n",
    "\n",
    "    missing_index, ideal_index = check_index_length(df, freq, verbose)\n",
    "\n",
    "    return {\n",
    "        'duplicate_index': duplicate_index,\n",
    "        'duplicate_rows': duplicate_rows,\n",
    "        'nans': nans,\n",
    "        'missing_index': missing_index,\n",
    "        'ideal_index': ideal_index\n",
    "    }\n",
    "def plot_distribution( df , var , target , **kwargs ):\n",
    "    row = kwargs.get( 'row' , None )\n",
    "    col = kwargs.get( 'col' , None )\n",
    "    facet = sns.FacetGrid( df , hue=target , aspect=4 , row = row , col = col )\n",
    "    facet.map( sns.kdeplot , var , shade= True )\n",
    "    facet.set( xlim=( 0 , df[ var ].max() ) )\n",
    "    facet.add_legend()"
   ]
  },
  {
   "cell_type": "code",
   "execution_count": 17,
   "metadata": {},
   "outputs": [],
   "source": [
    "all_data = pd.read_csv('All_data.csv')\n"
   ]
  },
  {
   "cell_type": "code",
   "execution_count": 18,
   "metadata": {},
   "outputs": [],
   "source": [
    "all_data.head()\n",
    "columns_data = all_data.columns"
   ]
  },
  {
   "cell_type": "code",
   "execution_count": 19,
   "metadata": {},
   "outputs": [
    {
     "data": {
      "text/plain": [
       "Index(['Unnamed: 0', 'Total Activated Balancing Energy UP (MWh)',\n",
       "       'Total Activated Balancing Energy Down (MWh)',\n",
       "       'Total Activated Balancing Energy (MWh)', 'Imbalance Price  (€/MWh)',\n",
       "       'mFRR Price UP (€/MWh)', 'mFRR Price Down (€/MWh)',\n",
       "       'Uplift Account 1 (€/MWh)', 'Uplift Account 2 (€/MWh)',\n",
       "       'Uplift Account 3 (€/MWh)', 'RES', 'Load', 'Mandatory Hydro',\n",
       "       'Total FRR', 'Day_ahead_price', 'Day_ahead_Balancing_diff',\n",
       "       'Diff_direction', 'Date'],\n",
       "      dtype='object')"
      ]
     },
     "execution_count": 19,
     "metadata": {},
     "output_type": "execute_result"
    }
   ],
   "source": [
    "columns_data"
   ]
  },
  {
   "cell_type": "code",
   "execution_count": 20,
   "metadata": {},
   "outputs": [],
   "source": [
    "all_data[columns_data[0]] = pd.to_datetime(all_data[columns_data[0]])\n",
    "all_data.set_index(columns_data[0], drop=True, inplace=True)\n",
    "all_data.index.name = None"
   ]
  },
  {
   "cell_type": "code",
   "execution_count": 21,
   "metadata": {},
   "outputs": [
    {
     "data": {
      "text/html": [
       "<div>\n",
       "<style scoped>\n",
       "    .dataframe tbody tr th:only-of-type {\n",
       "        vertical-align: middle;\n",
       "    }\n",
       "\n",
       "    .dataframe tbody tr th {\n",
       "        vertical-align: top;\n",
       "    }\n",
       "\n",
       "    .dataframe thead th {\n",
       "        text-align: right;\n",
       "    }\n",
       "</style>\n",
       "<table border=\"1\" class=\"dataframe\">\n",
       "  <thead>\n",
       "    <tr style=\"text-align: right;\">\n",
       "      <th></th>\n",
       "      <th>Total Activated Balancing Energy UP (MWh)</th>\n",
       "      <th>Total Activated Balancing Energy Down (MWh)</th>\n",
       "      <th>Total Activated Balancing Energy (MWh)</th>\n",
       "      <th>Imbalance Price  (€/MWh)</th>\n",
       "      <th>mFRR Price UP (€/MWh)</th>\n",
       "      <th>mFRR Price Down (€/MWh)</th>\n",
       "      <th>Uplift Account 1 (€/MWh)</th>\n",
       "      <th>Uplift Account 2 (€/MWh)</th>\n",
       "      <th>Uplift Account 3 (€/MWh)</th>\n",
       "      <th>RES</th>\n",
       "      <th>Load</th>\n",
       "      <th>Mandatory Hydro</th>\n",
       "      <th>Total FRR</th>\n",
       "      <th>Day_ahead_price</th>\n",
       "      <th>Day_ahead_Balancing_diff</th>\n",
       "      <th>Diff_direction</th>\n",
       "      <th>Date</th>\n",
       "    </tr>\n",
       "  </thead>\n",
       "  <tbody>\n",
       "    <tr>\n",
       "      <th>2021-08-15 00:00:00</th>\n",
       "      <td>64.696300</td>\n",
       "      <td>162.704473</td>\n",
       "      <td>-98.008173</td>\n",
       "      <td>38.036567</td>\n",
       "      <td>141.3900</td>\n",
       "      <td>40.7625</td>\n",
       "      <td>2.738548</td>\n",
       "      <td>0.662670</td>\n",
       "      <td>5.481142</td>\n",
       "      <td>1820.0</td>\n",
       "      <td>5515.5</td>\n",
       "      <td>50.0</td>\n",
       "      <td>914.0</td>\n",
       "      <td>95.16</td>\n",
       "      <td>57.123433</td>\n",
       "      <td>1</td>\n",
       "      <td>2021-08-15 00:00:00</td>\n",
       "    </tr>\n",
       "    <tr>\n",
       "      <th>2021-08-15 01:00:00</th>\n",
       "      <td>47.823965</td>\n",
       "      <td>117.162650</td>\n",
       "      <td>-69.338685</td>\n",
       "      <td>23.803718</td>\n",
       "      <td>86.9275</td>\n",
       "      <td>26.3325</td>\n",
       "      <td>2.375837</td>\n",
       "      <td>1.098814</td>\n",
       "      <td>2.754350</td>\n",
       "      <td>1930.0</td>\n",
       "      <td>5299.0</td>\n",
       "      <td>50.0</td>\n",
       "      <td>939.0</td>\n",
       "      <td>103.16</td>\n",
       "      <td>79.356282</td>\n",
       "      <td>1</td>\n",
       "      <td>2021-08-15 01:00:00</td>\n",
       "    </tr>\n",
       "    <tr>\n",
       "      <th>2021-08-15 02:00:00</th>\n",
       "      <td>37.976323</td>\n",
       "      <td>56.592600</td>\n",
       "      <td>-18.616277</td>\n",
       "      <td>25.178707</td>\n",
       "      <td>27.8250</td>\n",
       "      <td>0.0100</td>\n",
       "      <td>2.143069</td>\n",
       "      <td>1.201918</td>\n",
       "      <td>3.213499</td>\n",
       "      <td>2000.0</td>\n",
       "      <td>5127.5</td>\n",
       "      <td>50.0</td>\n",
       "      <td>949.0</td>\n",
       "      <td>91.91</td>\n",
       "      <td>66.731293</td>\n",
       "      <td>1</td>\n",
       "      <td>2021-08-15 02:00:00</td>\n",
       "    </tr>\n",
       "    <tr>\n",
       "      <th>2021-08-15 03:00:00</th>\n",
       "      <td>36.129990</td>\n",
       "      <td>105.814593</td>\n",
       "      <td>-69.684602</td>\n",
       "      <td>0.010000</td>\n",
       "      <td>28.5925</td>\n",
       "      <td>0.0100</td>\n",
       "      <td>2.043232</td>\n",
       "      <td>1.117085</td>\n",
       "      <td>3.079745</td>\n",
       "      <td>2035.0</td>\n",
       "      <td>5038.0</td>\n",
       "      <td>63.0</td>\n",
       "      <td>939.0</td>\n",
       "      <td>77.00</td>\n",
       "      <td>76.990000</td>\n",
       "      <td>1</td>\n",
       "      <td>2021-08-15 03:00:00</td>\n",
       "    </tr>\n",
       "    <tr>\n",
       "      <th>2021-08-15 04:00:00</th>\n",
       "      <td>34.597000</td>\n",
       "      <td>90.711290</td>\n",
       "      <td>-56.114290</td>\n",
       "      <td>17.827500</td>\n",
       "      <td>28.5925</td>\n",
       "      <td>17.8275</td>\n",
       "      <td>2.227400</td>\n",
       "      <td>1.156230</td>\n",
       "      <td>2.383576</td>\n",
       "      <td>2055.0</td>\n",
       "      <td>4951.5</td>\n",
       "      <td>76.0</td>\n",
       "      <td>1079.0</td>\n",
       "      <td>83.80</td>\n",
       "      <td>65.972500</td>\n",
       "      <td>1</td>\n",
       "      <td>2021-08-15 04:00:00</td>\n",
       "    </tr>\n",
       "  </tbody>\n",
       "</table>\n",
       "</div>"
      ],
      "text/plain": [
       "                     Total Activated Balancing Energy UP (MWh)  \\\n",
       "2021-08-15 00:00:00                                  64.696300   \n",
       "2021-08-15 01:00:00                                  47.823965   \n",
       "2021-08-15 02:00:00                                  37.976323   \n",
       "2021-08-15 03:00:00                                  36.129990   \n",
       "2021-08-15 04:00:00                                  34.597000   \n",
       "\n",
       "                     Total Activated Balancing Energy Down (MWh)  \\\n",
       "2021-08-15 00:00:00                                   162.704473   \n",
       "2021-08-15 01:00:00                                   117.162650   \n",
       "2021-08-15 02:00:00                                    56.592600   \n",
       "2021-08-15 03:00:00                                   105.814593   \n",
       "2021-08-15 04:00:00                                    90.711290   \n",
       "\n",
       "                     Total Activated Balancing Energy (MWh)  \\\n",
       "2021-08-15 00:00:00                              -98.008173   \n",
       "2021-08-15 01:00:00                              -69.338685   \n",
       "2021-08-15 02:00:00                              -18.616277   \n",
       "2021-08-15 03:00:00                              -69.684602   \n",
       "2021-08-15 04:00:00                              -56.114290   \n",
       "\n",
       "                     Imbalance Price  (€/MWh)  mFRR Price UP (€/MWh)  \\\n",
       "2021-08-15 00:00:00                 38.036567               141.3900   \n",
       "2021-08-15 01:00:00                 23.803718                86.9275   \n",
       "2021-08-15 02:00:00                 25.178707                27.8250   \n",
       "2021-08-15 03:00:00                  0.010000                28.5925   \n",
       "2021-08-15 04:00:00                 17.827500                28.5925   \n",
       "\n",
       "                     mFRR Price Down (€/MWh)  Uplift Account 1 (€/MWh)  \\\n",
       "2021-08-15 00:00:00                  40.7625                  2.738548   \n",
       "2021-08-15 01:00:00                  26.3325                  2.375837   \n",
       "2021-08-15 02:00:00                   0.0100                  2.143069   \n",
       "2021-08-15 03:00:00                   0.0100                  2.043232   \n",
       "2021-08-15 04:00:00                  17.8275                  2.227400   \n",
       "\n",
       "                     Uplift Account 2 (€/MWh)  Uplift Account 3 (€/MWh)  \\\n",
       "2021-08-15 00:00:00                  0.662670                  5.481142   \n",
       "2021-08-15 01:00:00                  1.098814                  2.754350   \n",
       "2021-08-15 02:00:00                  1.201918                  3.213499   \n",
       "2021-08-15 03:00:00                  1.117085                  3.079745   \n",
       "2021-08-15 04:00:00                  1.156230                  2.383576   \n",
       "\n",
       "                        RES    Load  Mandatory Hydro  Total FRR  \\\n",
       "2021-08-15 00:00:00  1820.0  5515.5             50.0      914.0   \n",
       "2021-08-15 01:00:00  1930.0  5299.0             50.0      939.0   \n",
       "2021-08-15 02:00:00  2000.0  5127.5             50.0      949.0   \n",
       "2021-08-15 03:00:00  2035.0  5038.0             63.0      939.0   \n",
       "2021-08-15 04:00:00  2055.0  4951.5             76.0     1079.0   \n",
       "\n",
       "                     Day_ahead_price  Day_ahead_Balancing_diff  \\\n",
       "2021-08-15 00:00:00            95.16                 57.123433   \n",
       "2021-08-15 01:00:00           103.16                 79.356282   \n",
       "2021-08-15 02:00:00            91.91                 66.731293   \n",
       "2021-08-15 03:00:00            77.00                 76.990000   \n",
       "2021-08-15 04:00:00            83.80                 65.972500   \n",
       "\n",
       "                     Diff_direction                 Date  \n",
       "2021-08-15 00:00:00               1  2021-08-15 00:00:00  \n",
       "2021-08-15 01:00:00               1  2021-08-15 01:00:00  \n",
       "2021-08-15 02:00:00               1  2021-08-15 02:00:00  \n",
       "2021-08-15 03:00:00               1  2021-08-15 03:00:00  \n",
       "2021-08-15 04:00:00               1  2021-08-15 04:00:00  "
      ]
     },
     "execution_count": 21,
     "metadata": {},
     "output_type": "execute_result"
    }
   ],
   "source": [
    "all_data.head()"
   ]
  },
  {
   "cell_type": "code",
   "execution_count": 28,
   "metadata": {},
   "outputs": [
    {
     "data": {
      "text/html": [
       "<div>\n",
       "<style scoped>\n",
       "    .dataframe tbody tr th:only-of-type {\n",
       "        vertical-align: middle;\n",
       "    }\n",
       "\n",
       "    .dataframe tbody tr th {\n",
       "        vertical-align: top;\n",
       "    }\n",
       "\n",
       "    .dataframe thead th {\n",
       "        text-align: right;\n",
       "    }\n",
       "</style>\n",
       "<table border=\"1\" class=\"dataframe\">\n",
       "  <thead>\n",
       "    <tr style=\"text-align: right;\">\n",
       "      <th></th>\n",
       "      <th>RES</th>\n",
       "      <th>Load</th>\n",
       "      <th>Mandatory Hydro</th>\n",
       "      <th>Total FRR</th>\n",
       "    </tr>\n",
       "  </thead>\n",
       "  <tbody>\n",
       "    <tr>\n",
       "      <th>2021-08-15 00:00:00</th>\n",
       "      <td>1820.0</td>\n",
       "      <td>5515.5</td>\n",
       "      <td>50.0</td>\n",
       "      <td>914.0</td>\n",
       "    </tr>\n",
       "    <tr>\n",
       "      <th>2021-08-15 01:00:00</th>\n",
       "      <td>1930.0</td>\n",
       "      <td>5299.0</td>\n",
       "      <td>50.0</td>\n",
       "      <td>939.0</td>\n",
       "    </tr>\n",
       "    <tr>\n",
       "      <th>2021-08-15 02:00:00</th>\n",
       "      <td>2000.0</td>\n",
       "      <td>5127.5</td>\n",
       "      <td>50.0</td>\n",
       "      <td>949.0</td>\n",
       "    </tr>\n",
       "    <tr>\n",
       "      <th>2021-08-15 03:00:00</th>\n",
       "      <td>2035.0</td>\n",
       "      <td>5038.0</td>\n",
       "      <td>63.0</td>\n",
       "      <td>939.0</td>\n",
       "    </tr>\n",
       "    <tr>\n",
       "      <th>2021-08-15 04:00:00</th>\n",
       "      <td>2055.0</td>\n",
       "      <td>4951.5</td>\n",
       "      <td>76.0</td>\n",
       "      <td>1079.0</td>\n",
       "    </tr>\n",
       "  </tbody>\n",
       "</table>\n",
       "</div>"
      ],
      "text/plain": [
       "                        RES    Load  Mandatory Hydro  Total FRR\n",
       "2021-08-15 00:00:00  1820.0  5515.5             50.0      914.0\n",
       "2021-08-15 01:00:00  1930.0  5299.0             50.0      939.0\n",
       "2021-08-15 02:00:00  2000.0  5127.5             50.0      949.0\n",
       "2021-08-15 03:00:00  2035.0  5038.0             63.0      939.0\n",
       "2021-08-15 04:00:00  2055.0  4951.5             76.0     1079.0"
      ]
     },
     "execution_count": 28,
     "metadata": {},
     "output_type": "execute_result"
    }
   ],
   "source": [
    "x = all_data.drop([columns_data[1],columns_data[2],columns_data[3],columns_data[4],columns_data[5],columns_data[6],columns_data[7],columns_data[8],columns_data[9],columns_data[14],columns_data[15],columns_data[16],columns_data[17]], axis=1)\n",
    "x.head()"
   ]
  },
  {
   "cell_type": "code",
   "execution_count": 159,
   "metadata": {},
   "outputs": [
    {
     "data": {
      "text/plain": [
       "2021-08-15 00:00:00     57.123433\n",
       "2021-08-15 01:00:00     79.356282\n",
       "2021-08-15 02:00:00     66.731293\n",
       "2021-08-15 03:00:00     76.990000\n",
       "2021-08-15 04:00:00     65.972500\n",
       "                          ...    \n",
       "2022-04-17 19:00:00      9.259151\n",
       "2022-04-17 20:00:00   -111.027419\n",
       "2022-04-17 21:00:00    -95.576083\n",
       "2022-04-17 22:00:00   -110.177843\n",
       "2022-04-17 23:00:00   -225.364028\n",
       "Name: Day_ahead_Balancing_diff, Length: 5904, dtype: float64"
      ]
     },
     "execution_count": 159,
     "metadata": {},
     "output_type": "execute_result"
    }
   ],
   "source": [
    "y = all_data['Day_ahead_Balancing_diff']\n",
    "y"
   ]
  },
  {
   "cell_type": "code",
   "execution_count": null,
   "metadata": {},
   "outputs": [],
   "source": []
  },
  {
   "cell_type": "code",
   "execution_count": 160,
   "metadata": {},
   "outputs": [
    {
     "data": {
      "image/png": "[encoded data removed]",
      "text/plain": [
       "<Figure size 432x288 with 1 Axes>"
      ]
     },
     "metadata": {},
     "output_type": "display_data"
    },
    {
     "data": {
      "image/png": "[encoded data removed]",
      "text/plain": [
       "<Figure size 432x288 with 1 Axes>"
      ]
     },
     "metadata": {},
     "output_type": "display_data"
    }
   ],
   "source": [
    "from scipy.stats import norm\n",
    "from scipy import stats\n",
    "sns.distplot(y);\n",
    "sns.distplot(y, fit=norm)\n",
    "fig = plt.figure()\n",
    "res = stats.probplot(y, plot=plt)\n",
    "\n"
   ]
  },
  {
   "cell_type": "code",
   "execution_count": 69,
   "metadata": {},
   "outputs": [],
   "source": [
    "from sklearn.model_selection import train_test_split\n",
    "#from sklearn.metrics import accuracy_score\n",
    "\n",
    "\n",
    "train_X, test_X, train_y, test_y = train_test_split(x, y, test_size=0.25)"
   ]
  },
  {
   "cell_type": "markdown",
   "metadata": {},
   "source": [
    "$\\textbf{I want to test the distribution between Test and Train Dataset after the Split}$"
   ]
  },
  {
   "cell_type": "code",
   "execution_count": null,
   "metadata": {},
   "outputs": [],
   "source": [
    "from sklearn.preprocessing import StandardScaler, MinMaxScaler, OrdinalEncoder\n",
    "from sklearn.compose import make_column_transformer\n",
    "from sklearn.model_selection import train_test_split\n",
    "\n",
    "num_columns = train_X.columns\n",
    "\n",
    "ct = make_column_transformer(\n",
    "    (MinMaxScaler(), num_columns),\n",
    "    (StandardScaler(), num_columns),\n",
    "    remainder='passthrough'\n",
    ")\n",
    "\n",
    "train_X = ct.fit_transform(train_X)\n",
    "test_X = ct.transform(test_X)"
   ]
  },
  {
   "cell_type": "code",
   "execution_count": 70,
   "metadata": {},
   "outputs": [
    {
     "data": {
      "text/html": [
       "<div>\n",
       "<style scoped>\n",
       "    .dataframe tbody tr th:only-of-type {\n",
       "        vertical-align: middle;\n",
       "    }\n",
       "\n",
       "    .dataframe tbody tr th {\n",
       "        vertical-align: top;\n",
       "    }\n",
       "\n",
       "    .dataframe thead th {\n",
       "        text-align: right;\n",
       "    }\n",
       "</style>\n",
       "<table border=\"1\" class=\"dataframe\">\n",
       "  <thead>\n",
       "    <tr style=\"text-align: right;\">\n",
       "      <th></th>\n",
       "      <th>RES</th>\n",
       "      <th>Load</th>\n",
       "      <th>Mandatory Hydro</th>\n",
       "      <th>Total FRR</th>\n",
       "    </tr>\n",
       "  </thead>\n",
       "  <tbody>\n",
       "    <tr>\n",
       "      <th>2021-12-29 14:00:00</th>\n",
       "      <td>920.0</td>\n",
       "      <td>6693.5</td>\n",
       "      <td>1264.0</td>\n",
       "      <td>1419.0</td>\n",
       "    </tr>\n",
       "    <tr>\n",
       "      <th>2022-01-02 04:00:00</th>\n",
       "      <td>2030.0</td>\n",
       "      <td>3976.0</td>\n",
       "      <td>1051.0</td>\n",
       "      <td>1061.0</td>\n",
       "    </tr>\n",
       "    <tr>\n",
       "      <th>2021-09-23 18:00:00</th>\n",
       "      <td>1570.0</td>\n",
       "      <td>6407.0</td>\n",
       "      <td>631.0</td>\n",
       "      <td>1749.0</td>\n",
       "    </tr>\n",
       "    <tr>\n",
       "      <th>2021-10-19 19:00:00</th>\n",
       "      <td>1250.0</td>\n",
       "      <td>6483.5</td>\n",
       "      <td>367.0</td>\n",
       "      <td>1914.0</td>\n",
       "    </tr>\n",
       "    <tr>\n",
       "      <th>2022-01-18 22:00:00</th>\n",
       "      <td>2060.0</td>\n",
       "      <td>6390.5</td>\n",
       "      <td>413.0</td>\n",
       "      <td>1736.0</td>\n",
       "    </tr>\n",
       "  </tbody>\n",
       "</table>\n",
       "</div>"
      ],
      "text/plain": [
       "                        RES    Load  Mandatory Hydro  Total FRR\n",
       "2021-12-29 14:00:00   920.0  6693.5           1264.0     1419.0\n",
       "2022-01-02 04:00:00  2030.0  3976.0           1051.0     1061.0\n",
       "2021-09-23 18:00:00  1570.0  6407.0            631.0     1749.0\n",
       "2021-10-19 19:00:00  1250.0  6483.5            367.0     1914.0\n",
       "2022-01-18 22:00:00  2060.0  6390.5            413.0     1736.0"
      ]
     },
     "execution_count": 70,
     "metadata": {},
     "output_type": "execute_result"
    }
   ],
   "source": [
    "train_X.head()\n",
    "test_X.head()"
   ]
  },
  {
   "cell_type": "code",
   "execution_count": 73,
   "metadata": {},
   "outputs": [
    {
     "ename": "AttributeError",
     "evalue": "'numpy.ndarray' object has no attribute 'columns'",
     "output_type": "error",
     "traceback": [
      "\u001b[1;31m---------------------------------------------------------------------------\u001b[0m",
      "\u001b[1;31mAttributeError\u001b[0m                            Traceback (most recent call last)",
      "\u001b[1;32m<ipython-input-73-65a5b5185cf3>\u001b[0m in \u001b[0;36m<module>\u001b[1;34m\u001b[0m\n\u001b[0;32m      3\u001b[0m \u001b[0mhypothesisrejected\u001b[0m \u001b[1;33m=\u001b[0m \u001b[1;33m[\u001b[0m\u001b[1;33m]\u001b[0m\u001b[1;33m\u001b[0m\u001b[1;33m\u001b[0m\u001b[0m\n\u001b[0;32m      4\u001b[0m \u001b[1;33m\u001b[0m\u001b[0m\n\u001b[1;32m----> 5\u001b[1;33m \u001b[1;32mfor\u001b[0m \u001b[0mcol\u001b[0m \u001b[1;32min\u001b[0m \u001b[0mtrain_X\u001b[0m\u001b[1;33m.\u001b[0m\u001b[0mcolumns\u001b[0m\u001b[1;33m:\u001b[0m\u001b[1;33m\u001b[0m\u001b[1;33m\u001b[0m\u001b[0m\n\u001b[0m\u001b[0;32m      6\u001b[0m     \u001b[0mstatistic\u001b[0m\u001b[1;33m,\u001b[0m \u001b[0mpvalue\u001b[0m \u001b[1;33m=\u001b[0m \u001b[0mks_2samp\u001b[0m\u001b[1;33m(\u001b[0m\u001b[0mtrain_X\u001b[0m\u001b[1;33m[\u001b[0m\u001b[0mcol\u001b[0m\u001b[1;33m]\u001b[0m\u001b[1;33m,\u001b[0m \u001b[0mtest_X\u001b[0m\u001b[1;33m[\u001b[0m\u001b[0mcol\u001b[0m\u001b[1;33m]\u001b[0m\u001b[1;33m)\u001b[0m\u001b[1;33m\u001b[0m\u001b[1;33m\u001b[0m\u001b[0m\n\u001b[0;32m      7\u001b[0m     \u001b[1;32mif\u001b[0m \u001b[0mpvalue\u001b[0m\u001b[1;33m>=\u001b[0m\u001b[0mstatistic\u001b[0m\u001b[1;33m:\u001b[0m\u001b[1;33m\u001b[0m\u001b[1;33m\u001b[0m\u001b[0m\n",
      "\u001b[1;31mAttributeError\u001b[0m: 'numpy.ndarray' object has no attribute 'columns'"
     ]
    }
   ],
   "source": [
    "from scipy.stats import ks_2samp\n",
    "hypothesisnotrejected = []\n",
    "hypothesisrejected = []\n",
    "\n",
    "for col in train_X.columns:\n",
    "    statistic, pvalue = ks_2samp(train_X[col], test_X[col])\n",
    "    if pvalue>=statistic:\n",
    "        hypothesisnotrejected.append(col)\n",
    "    if pvalue<statistic:\n",
    "        hypothesisrejected.append(col)\n",
    "        \n",
    "    plt.figure(figsize=(8,4))\n",
    "    plt.title(\"Kolmogorov-Smirnov test for train/test\\n\"\n",
    "              \"feature: {}, statistics: {:.5f}, pvalue: {:5f}\".format(col, statistic, pvalue))\n",
    "    sns.kdeplot(train_X[col], color='blue', shade=True, label='Train')\n",
    "    sns.kdeplot(test_X[col], color='green', shade=True, label='Test')\n",
    "\n",
    "    plt.show()"
   ]
  },
  {
   "cell_type": "markdown",
   "metadata": {},
   "source": [
    "$\\textbf{CatBoost Regression}$"
   ]
  },
  {
   "cell_type": "code",
   "execution_count": 74,
   "metadata": {},
   "outputs": [
    {
     "data": {
      "application/vnd.jupyter.widget-view+json": {
       "model_id": "ceb5e88bb83d41c2bff2e267e468b7b8",
       "version_major": 2,
       "version_minor": 0
      },
      "text/plain": [
       "MetricVisualizer(layout=Layout(align_self='stretch', height='500px'))"
      ]
     },
     "metadata": {},
     "output_type": "display_data"
    },
    {
     "name": "stdout",
     "output_type": "stream",
     "text": [
      "RMS:  105.26358547310302\n",
      "<catboost.core.Pool object at 0x0000023E4341E5E0>\n"
     ]
    },
    {
     "data": {
      "image/png": "[encoded data removed]",
      "text/plain": [
       "<Figure size 360x360 with 1 Axes>"
      ]
     },
     "metadata": {},
     "output_type": "display_data"
    }
   ],
   "source": [
    "from catboost import CatBoostRegressor, Pool\n",
    "from sklearn.metrics import mean_squared_error\n",
    "\n",
    "train_pool = Pool(train_X, \n",
    "                  train_y)\n",
    "test_pool = Pool(test_X) \n",
    "\n",
    "\n",
    "####{'colsample_bylevel': 4, 'learning_rate': 5, 'max_depth': 4}, \n",
    "\n",
    "#### Grid Search \n",
    "# {'depth': 10, 'iterations': 100, 'learning_rate': 0.1}\n",
    "modelCB = CatBoostRegressor(iterations=8000,\n",
    "                           depth=4,\n",
    "                           learning_rate=0.08,\n",
    "                           loss_function='RMSE',\n",
    "                           silent=True)\n",
    "\n",
    "modelCB.fit(train_pool,plot=True)\n",
    "\n",
    "preds1 = modelCB.predict(test_pool)\n",
    "\n",
    "preds_train=modelCB.predict(train_pool)\n",
    "# evaluate predictions\n",
    "rms1 = mean_squared_error(test_y, preds1, squared=False) #np.sqrt(np.mean((preds1 - test_y) ** 2))\n",
    "print(\"RMS: \", rms1)\n",
    "#print(preds1)\n",
    "\n",
    "\n",
    "\n",
    "plt.figure(figsize=(5,5))\n",
    "plt.scatter(test_y, preds1, s=10, color=\"deepskyblue\")\n",
    "plt.xlabel(\"Target value\")\n",
    "plt.ylabel(\"Predicted value\")\n",
    "print(train_pool)"
   ]
  },
  {
   "cell_type": "code",
   "execution_count": 75,
   "metadata": {},
   "outputs": [
    {
     "name": "stdout",
     "output_type": "stream",
     "text": [
      "Accuracy is :  -514.4925773342862\n"
     ]
    }
   ],
   "source": [
    "val_preds = modelCB.predict(test_X)\n",
    "MAPE=np.mean(np.abs((test_y - val_preds) / test_y)) * 100\n",
    "# calculate mean squared error on val sub-set preds\n",
    "np.sqrt(mean_squared_error(val_preds, test_y))\n",
    "print(\"Accuracy is : \",  100-MAPE)"
   ]
  },
  {
   "cell_type": "code",
   "execution_count": 76,
   "metadata": {},
   "outputs": [],
   "source": [
    "def residual_plot(train_labels, train_preds, test_labels=None, test_preds=None, \n",
    "                  title=\"Residual Plot\", figsize=(9,6)):\n",
    "    \"\"\" Residual plot to evaluate performance of our simple linear regressor \"\"\"\n",
    "    plt.figure(figsize=figsize)\n",
    "    plt.scatter(train_preds, train_preds - train_labels, c='blue', alpha=0.1,\n",
    "                marker='o', edgecolors='white', label='Training')\n",
    "    \n",
    "    if test_labels is not None:\n",
    "        plt.scatter(test_preds, test_preds - test_labels, c='red', alpha=0.1,\n",
    "                    marker='^', edgecolors='white', label='Test')\n",
    "    plt.xlabel('Predicted values')\n",
    "    plt.ylabel('Residuals')\n",
    "    \n",
    "    if test_labels is not None:\n",
    "        plt.legend(loc='best')\n",
    "    plt.title(title)\n",
    "    plt.show()\n",
    "    return"
   ]
  },
  {
   "cell_type": "code",
   "execution_count": 77,
   "metadata": {},
   "outputs": [
    {
     "data": {
      "image/png": "[encoded data removed]",
      "text/plain": [
       "<Figure size 648x432 with 1 Axes>"
      ]
     },
     "metadata": {},
     "output_type": "display_data"
    }
   ],
   "source": [
    "train_preds = modelCB.predict(train_X)\n",
    "\n",
    "residual_plot(train_y, train_preds, \n",
    "              test_y, val_preds, \n",
    "              title=\"CatBoost Residual Plot\")"
   ]
  },
  {
   "cell_type": "code",
   "execution_count": 78,
   "metadata": {},
   "outputs": [
    {
     "name": "stdout",
     "output_type": "stream",
     "text": [
      "Evaluation on test data\n",
      "RMSE: 105.26\n",
      "R2: -0.13\n",
      "Adjusted R2: -0.13\n"
     ]
    },
    {
     "name": "stderr",
     "output_type": "stream",
     "text": [
      "C:\\Users\\USER\\anaconda3\\lib\\site-packages\\seaborn\\distributions.py:2551: FutureWarning: `distplot` is a deprecated function and will be removed in a future version. Please adapt your code to use either `displot` (a figure-level function with similar flexibility) or `histplot` (an axes-level function for histograms).\n",
      "  warnings.warn(msg, FutureWarning)\n"
     ]
    },
    {
     "data": {
      "text/plain": [
       "<matplotlib.legend.Legend at 0x23e46455fa0>"
      ]
     },
     "execution_count": 78,
     "metadata": {},
     "output_type": "execute_result"
    },
    {
     "data": {
      "image/png": "[encoded data removed]",
      "text/plain": [
       "<Figure size 1080x360 with 1 Axes>"
      ]
     },
     "metadata": {},
     "output_type": "display_data"
    }
   ],
   "source": [
    "import math\n",
    "from sklearn.metrics import mean_squared_error, r2_score\n",
    "#RMSE\n",
    "Rmse_test = math.sqrt(mean_squared_error(test_y,preds1))\n",
    "#R2 Score\n",
    "r2_test = r2_score(test_y,preds1)\n",
    "# Adjusted R2 Score\n",
    "n= train_X.shape[0] # total no of datapoints\n",
    "p= train_X.shape[1] # total no of independent features\n",
    "adj_r2_test = 1-(1-r2_test)*(n-1)/(n-p-1)\n",
    "#print results\n",
    "print(\"Evaluation on test data\")\n",
    "print(\"RMSE: {:.2f}\".format(Rmse_test))\n",
    "print(\"R2: {:.2f}\".format(r2_test))\n",
    "print(\"Adjusted R2: {:.2f}\".format(adj_r2_test))\n",
    "\n",
    "\n",
    "output_data_CATBOOST = pd.DataFrame({\n",
    "                      'Prediction': preds1,'Real': test_y})\n",
    "\n",
    "\n",
    "\n",
    "\n",
    "\n",
    "# An interesting view is looking at the Actual Values and Predicted Values (Label) in a histogram over the entire dataset. This shows the distribution between the values. We can see how the Predicted Values seem to peak in a more distributed manner and skew to the left. \n",
    "plt.figure(figsize=(15,5))\n",
    "sns.set_style(\"whitegrid\")\n",
    "sns.distplot(output_data_CATBOOST[\"Prediction\"],\n",
    "                bins=20,\n",
    "                kde=False,\n",
    "                color=\"#c6690c\")\n",
    "sns.distplot(output_data_CATBOOST[\"Real\"],\n",
    "                bins=20,\n",
    "                kde=False,\n",
    "                color=\"#664697\")\n",
    "plt.title(\"Distribution between Actual Value and Predicted Value (Label)\")\n",
    "plt.ylabel(\"Count\")\n",
    "plt.xlabel(\"Recovery Value\")\n",
    "\n",
    "plt.legend((' Value (Actual)', 'Predicted Value (Label)'), ncol=2, loc='upper left', fontsize=12)\n",
    "\n"
   ]
  },
  {
   "cell_type": "code",
   "execution_count": 79,
   "metadata": {},
   "outputs": [
    {
     "data": {
      "text/plain": [
       "<matplotlib.legend.Legend at 0x23e4342c5e0>"
      ]
     },
     "execution_count": 79,
     "metadata": {},
     "output_type": "execute_result"
    },
    {
     "data": {
      "image/png": "[encoded data removed]",
      "text/plain": [
       "<Figure size 432x288 with 1 Axes>"
      ]
     },
     "metadata": {},
     "output_type": "display_data"
    }
   ],
   "source": [
    "# We can plot the Predicted Value (Label) and Actual Value over the entire dataset. \n",
    "sns.regplot(x=\"Real\", y=\"Prediction\", data=output_data_CATBOOST, lowess=False, scatter_kws ={'s':50}, line_kws={\"color\": \"#664697\"}, color=\"#c6690c\")\n",
    "plt.title(\"Linear Relationship between Actual Value and Predicted Value (Label)\")\n",
    "plt.ylabel(\"Predicted Value (Label)\")\n",
    "plt.xlabel(\"Recovery Value\")\n",
    "plt.legend(('Best Fit', 'Actual Value vs Predicted Value (Label)'), ncol=2, loc='upper left', fontsize=12)"
   ]
  },
  {
   "cell_type": "code",
   "execution_count": 81,
   "metadata": {},
   "outputs": [],
   "source": [
    "output_data_CATBOOST.head(50)\n",
    "\n",
    "output_data_CATBOOST[\"Prediction_sign\"] =  [1 if int(x) >= 0 else 0 for x in output_data_CATBOOST[\"Prediction\"]]\n",
    "output_data_CATBOOST[\"Real_sign\"] = [1 if int(x) >= 0 else 0 for x in output_data_CATBOOST[\"Real\"]]"
   ]
  },
  {
   "cell_type": "code",
   "execution_count": 84,
   "metadata": {},
   "outputs": [],
   "source": [
    "output_data_CATBOOST.head(50)\n",
    "comparison_column = np.where(output_data_CATBOOST[\"Prediction_sign\"] == output_data_CATBOOST[\"Real_sign\"], True, False)"
   ]
  },
  {
   "cell_type": "code",
   "execution_count": 92,
   "metadata": {},
   "outputs": [
    {
     "name": "stdout",
     "output_type": "stream",
     "text": [
      "We have a total of True values 876\n"
     ]
    }
   ],
   "source": [
    "count = np.count_nonzero(comparison_column)\n",
    "print(\"We have a total of True values : \" , count)"
   ]
  },
  {
   "cell_type": "code",
   "execution_count": 93,
   "metadata": {},
   "outputs": [
    {
     "name": "stdout",
     "output_type": "stream",
     "text": [
      "Accuracy of True values compared to the total observations : 0.5934959349593496\n"
     ]
    }
   ],
   "source": [
    "print(\"Accuracy of True values compared to the total observations :\" ,count/len(comparison_column))"
   ]
  },
  {
   "cell_type": "markdown",
   "metadata": {},
   "source": [
    "$\\textbf{Random Forest Regression}$"
   ]
  },
  {
   "cell_type": "code",
   "execution_count": 96,
   "metadata": {},
   "outputs": [
    {
     "data": {
      "text/plain": [
       "[<matplotlib.lines.Line2D at 0x23e4acb3d00>]"
      ]
     },
     "execution_count": 96,
     "metadata": {},
     "output_type": "execute_result"
    },
    {
     "data": {
      "image/png": "[encoded data removed]",
      "text/plain": [
       "<Figure size 432x288 with 1 Axes>"
      ]
     },
     "metadata": {},
     "output_type": "display_data"
    }
   ],
   "source": [
    "# Scale the data to be between -1 and 1\n",
    "rf = RandomForestRegressor(n_jobs=-1)\n",
    "\n",
    "# Try different numbers of n_estimators - this will take a minute or so\n",
    "estimators = np.arange(10, 343, 10)\n",
    "scores = []\n",
    "for n in estimators:\n",
    "    rf.set_params(n_estimators=n)\n",
    "    rf.fit(train_X, train_y)\n",
    "    scores.append(rf.score(test_X, test_y))\n",
    "plt.title(\"Effect of n_estimators\")\n",
    "plt.xlabel(\"n_estimator\")\n",
    "plt.ylabel(\"score\")\n",
    "plt.plot(estimators, scores)"
   ]
  },
  {
   "cell_type": "code",
   "execution_count": null,
   "metadata": {},
   "outputs": [],
   "source": [
    "rf_score = cross_val_score(rf, x, y, cv=kfolds, scoring='neg_mean_squared_error')\n",
    "rf_rmse =  np.sqrt(-rf_score.mean())\n",
    "# Printing out Ridge Score and STD\n",
    "print(\"Random Forest Model RMSE: \", rf_rmse)\n",
    "print(\"Random Forest Model STD: \", rf_score.std())"
   ]
  },
  {
   "cell_type": "code",
   "execution_count": 112,
   "metadata": {},
   "outputs": [],
   "source": [
    "preds_train=rf.predict(train_X)\n",
    "preds1 = rf.predict(test_X)"
   ]
  },
  {
   "cell_type": "code",
   "execution_count": 113,
   "metadata": {},
   "outputs": [
    {
     "name": "stdout",
     "output_type": "stream",
     "text": [
      "Evaluation on test data\n",
      "RMSE: 97.89\n",
      "R2: 0.03\n",
      "Adjusted R2: 0.03\n"
     ]
    },
    {
     "data": {
      "text/plain": [
       "<matplotlib.legend.Legend at 0x23e52e92c10>"
      ]
     },
     "execution_count": 113,
     "metadata": {},
     "output_type": "execute_result"
    },
    {
     "data": {
      "image/png": "[encoded data removed]",
      "text/plain": [
       "<Figure size 1080x360 with 1 Axes>"
      ]
     },
     "metadata": {},
     "output_type": "display_data"
    }
   ],
   "source": [
    "import math\n",
    "from sklearn.metrics import mean_squared_error, r2_score\n",
    "#RMSE\n",
    "Rmse_test = math.sqrt(mean_squared_error(test_y,preds1))\n",
    "#R2 Score\n",
    "r2_test = r2_score(test_y,preds1)\n",
    "# Adjusted R2 Score\n",
    "n= train_X.shape[0] # total no of datapoints\n",
    "p= train_X.shape[1] # total no of independent features\n",
    "adj_r2_test = 1-(1-r2_test)*(n-1)/(n-p-1)\n",
    "#print results\n",
    "print(\"Evaluation on test data\")\n",
    "print(\"RMSE: {:.2f}\".format(Rmse_test))\n",
    "print(\"R2: {:.2f}\".format(r2_test))\n",
    "print(\"Adjusted R2: {:.2f}\".format(adj_r2_test))\n",
    "\n",
    "\n",
    "output_data_random_forest = pd.DataFrame({\n",
    "                      'Prediction': preds1,'Real': test_y})\n",
    "\n",
    "\n",
    "\n",
    "\n",
    "\n",
    "# An interesting view is looking at the Actual Values and Predicted Values (Label) in a histogram over the entire dataset. This shows the distribution between the values. We can see how the Predicted Values seem to peak in a more distributed manner and skew to the left. \n",
    "plt.figure(figsize=(15,5))\n",
    "sns.set_style(\"whitegrid\")\n",
    "sns.distplot(output_data_random_forest[\"Prediction\"],\n",
    "                bins=20,\n",
    "                kde=False,\n",
    "                color=\"#c6690c\")\n",
    "sns.distplot(output_data_random_forest[\"Real\"],\n",
    "                bins=20,\n",
    "                kde=False,\n",
    "                color=\"#664697\")\n",
    "plt.title(\"Distribution between Actual Value and Predicted Value (Label)\")\n",
    "plt.ylabel(\"Count\")\n",
    "plt.xlabel(\"Recovery Value\")\n",
    "\n",
    "plt.legend((' Value (Actual)', 'Predicted Value (Label)'), ncol=2, loc='upper left', fontsize=12)\n",
    "\n"
   ]
  },
  {
   "cell_type": "code",
   "execution_count": 114,
   "metadata": {},
   "outputs": [],
   "source": [
    "output_data_random_forest.head(50)\n",
    "\n",
    "output_data_random_forest[\"Prediction_sign\"] =  [1 if int(x) >= 0 else 0 for x in output_data_random_forest[\"Prediction\"]]\n",
    "output_data_random_forest[\"Real_sign\"] = [1 if int(x) >= 0 else 0 for x in output_data_random_forest[\"Real\"]]"
   ]
  },
  {
   "cell_type": "code",
   "execution_count": 115,
   "metadata": {},
   "outputs": [],
   "source": [
    "output_data_random_forest.head(50)\n",
    "comparison_column = np.where(output_data_random_forest[\"Prediction_sign\"] == output_data_random_forest[\"Real_sign\"], True, False)"
   ]
  },
  {
   "cell_type": "code",
   "execution_count": 116,
   "metadata": {},
   "outputs": [
    {
     "name": "stdout",
     "output_type": "stream",
     "text": [
      "We have a total of True values :  877\n"
     ]
    }
   ],
   "source": [
    "count = np.count_nonzero(comparison_column)\n",
    "print(\"We have a total of True values : \" , count)"
   ]
  },
  {
   "cell_type": "code",
   "execution_count": 117,
   "metadata": {},
   "outputs": [
    {
     "name": "stdout",
     "output_type": "stream",
     "text": [
      "Accuracy of True values compared to the total observations : 0.5941734417344173\n"
     ]
    }
   ],
   "source": [
    "print(\"Accuracy of True values compared to the total observations :\" ,count/len(comparison_column))"
   ]
  },
  {
   "cell_type": "markdown",
   "metadata": {},
   "source": [
    "$\\textbf{Light GBM}$"
   ]
  },
  {
   "cell_type": "code",
   "execution_count": 99,
   "metadata": {},
   "outputs": [
    {
     "name": "stdout",
     "output_type": "stream",
     "text": [
      "[LightGBM] [Warning] feature_fraction is set=0.2319, colsample_bytree=1.0 will be ignored. Current value: feature_fraction=0.2319\n",
      "[LightGBM] [Warning] min_data_in_leaf is set=6, min_child_samples=20 will be ignored. Current value: min_data_in_leaf=6\n",
      "[LightGBM] [Warning] min_sum_hessian_in_leaf is set=11, min_child_weight=0.001 will be ignored. Current value: min_sum_hessian_in_leaf=11\n",
      "[LightGBM] [Warning] bagging_fraction is set=0.8, subsample=1.0 will be ignored. Current value: bagging_fraction=0.8\n",
      "[LightGBM] [Warning] bagging_freq is set=5, subsample_freq=0 will be ignored. Current value: bagging_freq=5\n",
      "[LightGBM] [Warning] feature_fraction is set=0.2319, colsample_bytree=1.0 will be ignored. Current value: feature_fraction=0.2319\n",
      "[LightGBM] [Warning] min_data_in_leaf is set=6, min_child_samples=20 will be ignored. Current value: min_data_in_leaf=6\n",
      "[LightGBM] [Warning] min_sum_hessian_in_leaf is set=11, min_child_weight=0.001 will be ignored. Current value: min_sum_hessian_in_leaf=11\n",
      "[LightGBM] [Warning] bagging_fraction is set=0.8, subsample=1.0 will be ignored. Current value: bagging_fraction=0.8\n",
      "[LightGBM] [Warning] bagging_freq is set=5, subsample_freq=0 will be ignored. Current value: bagging_freq=5\n",
      "[LightGBM] [Warning] feature_fraction is set=0.2319, colsample_bytree=1.0 will be ignored. Current value: feature_fraction=0.2319\n",
      "[LightGBM] [Warning] min_data_in_leaf is set=6, min_child_samples=20 will be ignored. Current value: min_data_in_leaf=6\n",
      "[LightGBM] [Warning] min_sum_hessian_in_leaf is set=11, min_child_weight=0.001 will be ignored. Current value: min_sum_hessian_in_leaf=11\n",
      "[LightGBM] [Warning] bagging_fraction is set=0.8, subsample=1.0 will be ignored. Current value: bagging_fraction=0.8\n",
      "[LightGBM] [Warning] bagging_freq is set=5, subsample_freq=0 will be ignored. Current value: bagging_freq=5\n",
      "[LightGBM] [Warning] feature_fraction is set=0.2319, colsample_bytree=1.0 will be ignored. Current value: feature_fraction=0.2319\n",
      "[LightGBM] [Warning] min_data_in_leaf is set=6, min_child_samples=20 will be ignored. Current value: min_data_in_leaf=6\n",
      "[LightGBM] [Warning] min_sum_hessian_in_leaf is set=11, min_child_weight=0.001 will be ignored. Current value: min_sum_hessian_in_leaf=11\n",
      "[LightGBM] [Warning] bagging_fraction is set=0.8, subsample=1.0 will be ignored. Current value: bagging_fraction=0.8\n",
      "[LightGBM] [Warning] bagging_freq is set=5, subsample_freq=0 will be ignored. Current value: bagging_freq=5\n",
      "[LightGBM] [Warning] feature_fraction is set=0.2319, colsample_bytree=1.0 will be ignored. Current value: feature_fraction=0.2319\n",
      "[LightGBM] [Warning] min_data_in_leaf is set=6, min_child_samples=20 will be ignored. Current value: min_data_in_leaf=6\n",
      "[LightGBM] [Warning] min_sum_hessian_in_leaf is set=11, min_child_weight=0.001 will be ignored. Current value: min_sum_hessian_in_leaf=11\n",
      "[LightGBM] [Warning] bagging_fraction is set=0.8, subsample=1.0 will be ignored. Current value: bagging_fraction=0.8\n",
      "[LightGBM] [Warning] bagging_freq is set=5, subsample_freq=0 will be ignored. Current value: bagging_freq=5\n",
      "LIGHTGBM RMSE:  103.9180576119069\n",
      "LIGHTGBM STD:  631.7244659665038\n"
     ]
    }
   ],
   "source": [
    "kfolds = KFold(n_splits=5, shuffle=True, random_state=42)\n",
    "\n",
    "\n",
    "lightgbm = make_pipeline(RobustScaler(),\n",
    "                        LGBMRegressor(objective='regression',num_leaves=5,\n",
    "                                      learning_rate=0.05, n_estimators=720,\n",
    "                                      max_bin = 55, bagging_fraction = 0.8,\n",
    "                                      bagging_freq = 5, feature_fraction = 0.2319,\n",
    "                                      feature_fraction_seed=9, bagging_seed=9,\n",
    "                                      min_data_in_leaf =6, \n",
    "                                      min_sum_hessian_in_leaf = 11))\n",
    "\n",
    "# Printing out LightGBM Score and STD\n",
    "lightgbm_score = cross_val_score(lightgbm, x, y, cv=kfolds, scoring='neg_mean_squared_error')\n",
    "lightgbm_rmse = np.sqrt(-lightgbm_score.mean())\n",
    "print(\"LIGHTGBM RMSE: \", lightgbm_rmse)\n",
    "print(\"LIGHTGBM STD: \", lightgbm_score.std())"
   ]
  },
  {
   "cell_type": "code",
   "execution_count": 101,
   "metadata": {},
   "outputs": [
    {
     "name": "stdout",
     "output_type": "stream",
     "text": [
      "[LightGBM] [Warning] feature_fraction is set=0.2319, colsample_bytree=1.0 will be ignored. Current value: feature_fraction=0.2319\n",
      "[LightGBM] [Warning] min_data_in_leaf is set=6, min_child_samples=20 will be ignored. Current value: min_data_in_leaf=6\n",
      "[LightGBM] [Warning] min_sum_hessian_in_leaf is set=11, min_child_weight=0.001 will be ignored. Current value: min_sum_hessian_in_leaf=11\n",
      "[LightGBM] [Warning] bagging_fraction is set=0.8, subsample=1.0 will be ignored. Current value: bagging_fraction=0.8\n",
      "[LightGBM] [Warning] bagging_freq is set=5, subsample_freq=0 will be ignored. Current value: bagging_freq=5\n"
     ]
    },
    {
     "data": {
      "text/plain": [
       "Pipeline(steps=[('robustscaler', RobustScaler()),\n",
       "                ('lgbmregressor',\n",
       "                 LGBMRegressor(bagging_fraction=0.8, bagging_freq=5,\n",
       "                               bagging_seed=9, feature_fraction=0.2319,\n",
       "                               feature_fraction_seed=9, learning_rate=0.05,\n",
       "                               max_bin=55, min_data_in_leaf=6,\n",
       "                               min_sum_hessian_in_leaf=11, n_estimators=720,\n",
       "                               num_leaves=5, objective='regression'))])"
      ]
     },
     "execution_count": 101,
     "metadata": {},
     "output_type": "execute_result"
    }
   ],
   "source": [
    "# Training Model for later\n",
    "lightgbm.fit(train_X, train_y)"
   ]
  },
  {
   "cell_type": "code",
   "execution_count": 110,
   "metadata": {},
   "outputs": [],
   "source": [
    "preds_train=lightgbm.predict(train_X)\n",
    "preds1 = lightgbm.predict(test_X)"
   ]
  },
  {
   "cell_type": "code",
   "execution_count": 111,
   "metadata": {},
   "outputs": [
    {
     "name": "stdout",
     "output_type": "stream",
     "text": [
      "Evaluation on test data\n",
      "RMSE: 98.37\n",
      "R2: 0.02\n",
      "Adjusted R2: 0.02\n"
     ]
    },
    {
     "data": {
      "text/plain": [
       "<matplotlib.legend.Legend at 0x23e52eb3be0>"
      ]
     },
     "execution_count": 111,
     "metadata": {},
     "output_type": "execute_result"
    },
    {
     "data": {
      "image/png": "[encoded data removed]",
      "text/plain": [
       "<Figure size 1080x360 with 1 Axes>"
      ]
     },
     "metadata": {},
     "output_type": "display_data"
    }
   ],
   "source": [
    "import math\n",
    "from sklearn.metrics import mean_squared_error, r2_score\n",
    "#RMSE\n",
    "Rmse_test = math.sqrt(mean_squared_error(test_y,preds1))\n",
    "#R2 Score\n",
    "r2_test = r2_score(test_y,preds1)\n",
    "# Adjusted R2 Score\n",
    "n= train_X.shape[0] # total no of datapoints\n",
    "p= train_X.shape[1] # total no of independent features\n",
    "adj_r2_test = 1-(1-r2_test)*(n-1)/(n-p-1)\n",
    "#print results\n",
    "print(\"Evaluation on test data\")\n",
    "print(\"RMSE: {:.2f}\".format(Rmse_test))\n",
    "print(\"R2: {:.2f}\".format(r2_test))\n",
    "print(\"Adjusted R2: {:.2f}\".format(adj_r2_test))\n",
    "\n",
    "\n",
    "output_data_lightgbm = pd.DataFrame({\n",
    "                      'Prediction': preds1,'Real': test_y})\n",
    "\n",
    "\n",
    "\n",
    "\n",
    "\n",
    "# An interesting view is looking at the Actual Values and Predicted Values (Label) in a histogram over the entire dataset. This shows the distribution between the values. We can see how the Predicted Values seem to peak in a more distributed manner and skew to the left. \n",
    "plt.figure(figsize=(15,5))\n",
    "sns.set_style(\"whitegrid\")\n",
    "sns.distplot(output_data_lightgbm[\"Prediction\"],\n",
    "                bins=20,\n",
    "                kde=False,\n",
    "                color=\"#c6690c\")\n",
    "sns.distplot(output_data_lightgbm[\"Real\"],\n",
    "                bins=20,\n",
    "                kde=False,\n",
    "                color=\"#664697\")\n",
    "plt.title(\"Distribution between Actual Value and Predicted Value (Label)\")\n",
    "plt.ylabel(\"Count\")\n",
    "plt.xlabel(\"Recovery Value\")\n",
    "\n",
    "plt.legend((' Value (Actual)', 'Predicted Value (Label)'), ncol=2, loc='upper left', fontsize=12)\n",
    "\n"
   ]
  },
  {
   "cell_type": "code",
   "execution_count": 106,
   "metadata": {},
   "outputs": [],
   "source": [
    "output_data_lightgbm.head(50)\n",
    "\n",
    "output_data_lightgbm[\"Prediction_sign\"] =  [1 if int(x) >= 0 else 0 for x in output_data_lightgbm[\"Prediction\"]]\n",
    "output_data_lightgbm[\"Real_sign\"] = [1 if int(x) >= 0 else 0 for x in output_data_lightgbm[\"Real\"]]"
   ]
  },
  {
   "cell_type": "code",
   "execution_count": 107,
   "metadata": {},
   "outputs": [],
   "source": [
    "output_data_lightgbm.head(50)\n",
    "comparison_column = np.where(output_data_lightgbm[\"Prediction_sign\"] == output_data_lightgbm[\"Real_sign\"], True, False)"
   ]
  },
  {
   "cell_type": "code",
   "execution_count": 108,
   "metadata": {},
   "outputs": [
    {
     "name": "stdout",
     "output_type": "stream",
     "text": [
      "We have a total of True values :  854\n"
     ]
    }
   ],
   "source": [
    "count = np.count_nonzero(comparison_column)\n",
    "print(\"We have a total of True values : \" , count)"
   ]
  },
  {
   "cell_type": "code",
   "execution_count": 109,
   "metadata": {},
   "outputs": [
    {
     "name": "stdout",
     "output_type": "stream",
     "text": [
      "Accuracy of True values compared to the total observations : 0.5785907859078591\n"
     ]
    }
   ],
   "source": [
    "print(\"Accuracy of True values compared to the total observations :\" ,count/len(comparison_column))"
   ]
  },
  {
   "cell_type": "markdown",
   "metadata": {},
   "source": [
    "$\\textbf{Ridge Regression}$"
   ]
  },
  {
   "cell_type": "code",
   "execution_count": 131,
   "metadata": {},
   "outputs": [
    {
     "name": "stdout",
     "output_type": "stream",
     "text": [
      "RIDGE RMSE:  104.53530588916666\n",
      "RIDGE STD:  675.133800964236\n"
     ]
    }
   ],
   "source": [
    "# Parameters for models\n",
    "e_alphas = [0.0001, 0.0002, 0.0003, 0.0004, 0.0005, 0.0006, 0.0007]\n",
    "e_l1ratio = [0.8, 0.85, 0.9, 0.95, 0.99, 1]\n",
    "alphas_alt = [14.5, 14.6, 14.7, 14.8, 14.9, 15, 15.1, 15.2, 15.3, 15.4, 15.5]\n",
    "alphas2 = [0.00005, 0.0001, 0.0002, 0.0003, 0.0004, 0.0005, 0.0006, 0.0007, 0.0008]\n",
    "\n",
    "\n",
    "ridge = make_pipeline(RobustScaler(), RidgeCV(alphas = alphas_alt, cv=kfolds))\n",
    "ridge_score = cross_val_score(ridge, x, y, cv=kfolds, scoring='neg_mean_squared_error')\n",
    "ridge_rmse =  np.sqrt(-ridge_score.mean())\n",
    "# Printing out Ridge Score and STD\n",
    "print(\"RIDGE RMSE: \", ridge_rmse)\n",
    "print(\"RIDGE STD: \", ridge_score.std())"
   ]
  },
  {
   "cell_type": "code",
   "execution_count": 132,
   "metadata": {},
   "outputs": [
    {
     "data": {
      "text/plain": [
       "Pipeline(steps=[('robustscaler', RobustScaler()),\n",
       "                ('ridgecv',\n",
       "                 RidgeCV(alphas=array([14.5, 14.6, 14.7, 14.8, 14.9, 15. , 15.1, 15.2, 15.3, 15.4, 15.5]),\n",
       "                         cv=KFold(n_splits=5, random_state=42, shuffle=True)))])"
      ]
     },
     "execution_count": 132,
     "metadata": {},
     "output_type": "execute_result"
    }
   ],
   "source": [
    "ridge.fit(train_X,train_y)"
   ]
  },
  {
   "cell_type": "code",
   "execution_count": 133,
   "metadata": {},
   "outputs": [],
   "source": [
    "preds_train=lightgbm.predict(train_X)\n",
    "preds1 = lightgbm.predict(test_X)"
   ]
  },
  {
   "cell_type": "code",
   "execution_count": 134,
   "metadata": {},
   "outputs": [
    {
     "name": "stdout",
     "output_type": "stream",
     "text": [
      "Evaluation on test data\n",
      "RMSE: 98.37\n",
      "R2: 0.02\n",
      "Adjusted R2: 0.02\n"
     ]
    },
    {
     "data": {
      "text/plain": [
       "<matplotlib.legend.Legend at 0x23e53504640>"
      ]
     },
     "execution_count": 134,
     "metadata": {},
     "output_type": "execute_result"
    },
    {
     "data": {
      "image/png": "[encoded data removed]",
      "text/plain": [
       "<Figure size 1080x360 with 1 Axes>"
      ]
     },
     "metadata": {},
     "output_type": "display_data"
    }
   ],
   "source": [
    "import math\n",
    "from sklearn.metrics import mean_squared_error, r2_score\n",
    "#RMSE\n",
    "Rmse_test = math.sqrt(mean_squared_error(test_y,preds1))\n",
    "#R2 Score\n",
    "r2_test = r2_score(test_y,preds1)\n",
    "# Adjusted R2 Score\n",
    "n= train_X.shape[0] # total no of datapoints\n",
    "p= train_X.shape[1] # total no of independent features\n",
    "adj_r2_test = 1-(1-r2_test)*(n-1)/(n-p-1)\n",
    "#print results\n",
    "print(\"Evaluation on test data\")\n",
    "print(\"RMSE: {:.2f}\".format(Rmse_test))\n",
    "print(\"R2: {:.2f}\".format(r2_test))\n",
    "print(\"Adjusted R2: {:.2f}\".format(adj_r2_test))\n",
    "\n",
    "\n",
    "output_data_ridge_regression = pd.DataFrame({\n",
    "                      'Prediction': preds1,'Real': test_y})\n",
    "\n",
    "\n",
    "\n",
    "\n",
    "\n",
    "# An interesting view is looking at the Actual Values and Predicted Values (Label) in a histogram over the entire dataset. This shows the distribution between the values. We can see how the Predicted Values seem to peak in a more distributed manner and skew to the left. \n",
    "plt.figure(figsize=(15,5))\n",
    "sns.set_style(\"whitegrid\")\n",
    "sns.distplot(output_data_ridge_regression[\"Prediction\"],\n",
    "                bins=20,\n",
    "                kde=False,\n",
    "                color=\"#c6690c\")\n",
    "sns.distplot(output_data_ridge_regression[\"Real\"],\n",
    "                bins=20,\n",
    "                kde=False,\n",
    "                color=\"#664697\")\n",
    "plt.title(\"Distribution between Actual Value and Predicted Value (Label)\")\n",
    "plt.ylabel(\"Count\")\n",
    "plt.xlabel(\"Recovery Value\")\n",
    "\n",
    "plt.legend((' Value (Actual)', 'Predicted Value (Label)'), ncol=2, loc='upper left', fontsize=12)\n",
    "\n"
   ]
  },
  {
   "cell_type": "code",
   "execution_count": 135,
   "metadata": {},
   "outputs": [],
   "source": [
    "output_data_ridge_regression[\"Prediction_sign\"] =  [1 if int(x) >= 0 else 0 for x in output_data_ridge_regression[\"Prediction\"]]\n",
    "output_data_ridge_regression[\"Real_sign\"] = [1 if int(x) >= 0 else 0 for x in output_data_ridge_regression[\"Real\"]]"
   ]
  },
  {
   "cell_type": "code",
   "execution_count": 136,
   "metadata": {},
   "outputs": [],
   "source": [
    "comparison_column = np.where(output_data_ridge_regression[\"Prediction_sign\"] == output_data_ridge_regression[\"Real_sign\"], True, False)"
   ]
  },
  {
   "cell_type": "code",
   "execution_count": 137,
   "metadata": {},
   "outputs": [
    {
     "name": "stdout",
     "output_type": "stream",
     "text": [
      "We have a total of True values :  854\n"
     ]
    }
   ],
   "source": [
    "count = np.count_nonzero(comparison_column)\n",
    "print(\"We have a total of True values : \" , count)"
   ]
  },
  {
   "cell_type": "code",
   "execution_count": 138,
   "metadata": {},
   "outputs": [
    {
     "name": "stdout",
     "output_type": "stream",
     "text": [
      "Accuracy of True values compared to the total observations : 0.5785907859078591\n"
     ]
    }
   ],
   "source": [
    "print(\"Accuracy of True values compared to the total observations :\" ,count/len(comparison_column))"
   ]
  },
  {
   "cell_type": "code",
   "execution_count": null,
   "metadata": {},
   "outputs": [],
   "source": []
  },
  {
   "cell_type": "markdown",
   "metadata": {},
   "source": [
    "$\\textbf{Stacked Models}$"
   ]
  },
  {
   "cell_type": "code",
   "execution_count": 140,
   "metadata": {},
   "outputs": [
    {
     "name": "stdout",
     "output_type": "stream",
     "text": [
      "STACK RMSE:  100.82210497453534\n",
      "STACK STD:  593.97568704308\n"
     ]
    }
   ],
   "source": [
    "stack_gen = StackingCVRegressor(regressors=(modelCB,rf,ridge), \n",
    "                               meta_regressor=rf,\n",
    "                               use_features_in_secondary=True)\n",
    "\n",
    "stack_score = cross_val_score(stack_gen, x, y, cv=kfolds, scoring='neg_mean_squared_error')\n",
    "stack_rmse = np.sqrt(-stack_score.mean())\n",
    "print(\"STACK RMSE: \", stack_rmse)\n",
    "print(\"STACK STD: \", stack_score.std())"
   ]
  },
  {
   "cell_type": "code",
   "execution_count": 143,
   "metadata": {},
   "outputs": [
    {
     "data": {
      "text/plain": [
       "StackingCVRegressor(meta_regressor=RandomForestRegressor(n_estimators=340,\n",
       "                                                         n_jobs=-1),\n",
       "                    regressors=(<catboost.core.CatBoostRegressor object at 0x0000023E433F99A0>,\n",
       "                                RandomForestRegressor(n_estimators=340,\n",
       "                                                      n_jobs=-1),\n",
       "                                Pipeline(steps=[('robustscaler',\n",
       "                                                 RobustScaler()),\n",
       "                                                ('ridgecv',\n",
       "                                                 RidgeCV(alphas=array([14.5, 14.6, 14.7, 14.8, 14.9, 15. , 15.1, 15.2, 15.3, 15.4, 15.5]),\n",
       "                                                         cv=KFold(n_splits=5, random_state=42, shuffle=True)))])),\n",
       "                    use_features_in_secondary=True)"
      ]
     },
     "execution_count": 143,
     "metadata": {},
     "output_type": "execute_result"
    }
   ],
   "source": [
    "#Training Model for later\n",
    "stack_gen.fit(train_X,train_y)"
   ]
  },
  {
   "cell_type": "code",
   "execution_count": 144,
   "metadata": {},
   "outputs": [],
   "source": [
    "preds_train=stack_gen.predict(train_X)\n",
    "preds1 = stack_gen.predict(test_X)"
   ]
  },
  {
   "cell_type": "code",
   "execution_count": 145,
   "metadata": {},
   "outputs": [
    {
     "name": "stdout",
     "output_type": "stream",
     "text": [
      "Evaluation on test data\n",
      "RMSE: 101.99\n",
      "R2: -0.06\n",
      "Adjusted R2: -0.06\n"
     ]
    },
    {
     "data": {
      "text/plain": [
       "<matplotlib.legend.Legend at 0x23e53ac7d90>"
      ]
     },
     "execution_count": 145,
     "metadata": {},
     "output_type": "execute_result"
    },
    {
     "data": {
      "image/png": "[encoded data removed]",
      "text/plain": [
       "<Figure size 1080x360 with 1 Axes>"
      ]
     },
     "metadata": {},
     "output_type": "display_data"
    }
   ],
   "source": [
    "import math\n",
    "from sklearn.metrics import mean_squared_error, r2_score\n",
    "#RMSE\n",
    "Rmse_test = math.sqrt(mean_squared_error(test_y,preds1))\n",
    "#R2 Score\n",
    "r2_test = r2_score(test_y,preds1)\n",
    "# Adjusted R2 Score\n",
    "n= train_X.shape[0] # total no of datapoints\n",
    "p= train_X.shape[1] # total no of independent features\n",
    "adj_r2_test = 1-(1-r2_test)*(n-1)/(n-p-1)\n",
    "#print results\n",
    "print(\"Evaluation on test data\")\n",
    "print(\"RMSE: {:.2f}\".format(Rmse_test))\n",
    "print(\"R2: {:.2f}\".format(r2_test))\n",
    "print(\"Adjusted R2: {:.2f}\".format(adj_r2_test))\n",
    "\n",
    "\n",
    "output_data_stacked_model = pd.DataFrame({\n",
    "                      'Prediction': preds1,'Real': test_y})\n",
    "\n",
    "\n",
    "\n",
    "\n",
    "\n",
    "# An interesting view is looking at the Actual Values and Predicted Values (Label) in a histogram over the entire dataset. This shows the distribution between the values. We can see how the Predicted Values seem to peak in a more distributed manner and skew to the left. \n",
    "plt.figure(figsize=(15,5))\n",
    "sns.set_style(\"whitegrid\")\n",
    "sns.distplot(output_data_stacked_model[\"Prediction\"],\n",
    "                bins=20,\n",
    "                kde=False,\n",
    "                color=\"#c6690c\")\n",
    "sns.distplot(output_data_stacked_model[\"Real\"],\n",
    "                bins=20,\n",
    "                kde=False,\n",
    "                color=\"#664697\")\n",
    "plt.title(\"Distribution between Actual Value and Predicted Value (Label)\")\n",
    "plt.ylabel(\"Count\")\n",
    "plt.xlabel(\"Recovery Value\")\n",
    "\n",
    "plt.legend((' Value (Actual)', 'Predicted Value (Label)'), ncol=2, loc='upper left', fontsize=12)\n",
    "\n"
   ]
  },
  {
   "cell_type": "code",
   "execution_count": 146,
   "metadata": {},
   "outputs": [],
   "source": [
    "output_data_stacked_model[\"Prediction_sign\"] =  [1 if int(x) >= 0 else 0 for x in output_data_stacked_model[\"Prediction\"]]\n",
    "output_data_stacked_model[\"Real_sign\"] = [1 if int(x) >= 0 else 0 for x in output_data_stacked_model[\"Real\"]]"
   ]
  },
  {
   "cell_type": "code",
   "execution_count": 147,
   "metadata": {},
   "outputs": [],
   "source": [
    "comparison_column = np.where(output_data_stacked_model[\"Prediction_sign\"] == output_data_stacked_model[\"Real_sign\"], True, False)"
   ]
  },
  {
   "cell_type": "code",
   "execution_count": 148,
   "metadata": {},
   "outputs": [
    {
     "name": "stdout",
     "output_type": "stream",
     "text": [
      "We have a total of True values :  889\n"
     ]
    }
   ],
   "source": [
    "count = np.count_nonzero(comparison_column)\n",
    "print(\"We have a total of True values : \" , count)"
   ]
  },
  {
   "cell_type": "code",
   "execution_count": 149,
   "metadata": {},
   "outputs": [
    {
     "name": "stdout",
     "output_type": "stream",
     "text": [
      "Accuracy of True values compared to the total observations : 0.6023035230352304\n"
     ]
    }
   ],
   "source": [
    "print(\"Accuracy of True values compared to the total observations :\" ,count/len(comparison_column))"
   ]
  },
  {
   "cell_type": "markdown",
   "metadata": {},
   "source": [
    "$\\textbf{Now we are going to add the Uplift feature i=1,2,3}$"
   ]
  },
  {
   "cell_type": "code",
   "execution_count": 163,
   "metadata": {},
   "outputs": [
    {
     "data": {
      "text/html": [
       "<div>\n",
       "<style scoped>\n",
       "    .dataframe tbody tr th:only-of-type {\n",
       "        vertical-align: middle;\n",
       "    }\n",
       "\n",
       "    .dataframe tbody tr th {\n",
       "        vertical-align: top;\n",
       "    }\n",
       "\n",
       "    .dataframe thead th {\n",
       "        text-align: right;\n",
       "    }\n",
       "</style>\n",
       "<table border=\"1\" class=\"dataframe\">\n",
       "  <thead>\n",
       "    <tr style=\"text-align: right;\">\n",
       "      <th></th>\n",
       "      <th>Uplift Account 1 (€/MWh)</th>\n",
       "      <th>RES</th>\n",
       "      <th>Load</th>\n",
       "      <th>Mandatory Hydro</th>\n",
       "      <th>Total FRR</th>\n",
       "    </tr>\n",
       "  </thead>\n",
       "  <tbody>\n",
       "    <tr>\n",
       "      <th>2021-08-15 00:00:00</th>\n",
       "      <td>2.738548</td>\n",
       "      <td>1820.0</td>\n",
       "      <td>5515.5</td>\n",
       "      <td>50.0</td>\n",
       "      <td>914.0</td>\n",
       "    </tr>\n",
       "    <tr>\n",
       "      <th>2021-08-15 01:00:00</th>\n",
       "      <td>2.375837</td>\n",
       "      <td>1930.0</td>\n",
       "      <td>5299.0</td>\n",
       "      <td>50.0</td>\n",
       "      <td>939.0</td>\n",
       "    </tr>\n",
       "    <tr>\n",
       "      <th>2021-08-15 02:00:00</th>\n",
       "      <td>2.143069</td>\n",
       "      <td>2000.0</td>\n",
       "      <td>5127.5</td>\n",
       "      <td>50.0</td>\n",
       "      <td>949.0</td>\n",
       "    </tr>\n",
       "    <tr>\n",
       "      <th>2021-08-15 03:00:00</th>\n",
       "      <td>2.043232</td>\n",
       "      <td>2035.0</td>\n",
       "      <td>5038.0</td>\n",
       "      <td>63.0</td>\n",
       "      <td>939.0</td>\n",
       "    </tr>\n",
       "    <tr>\n",
       "      <th>2021-08-15 04:00:00</th>\n",
       "      <td>2.227400</td>\n",
       "      <td>2055.0</td>\n",
       "      <td>4951.5</td>\n",
       "      <td>76.0</td>\n",
       "      <td>1079.0</td>\n",
       "    </tr>\n",
       "  </tbody>\n",
       "</table>\n",
       "</div>"
      ],
      "text/plain": [
       "                     Uplift Account 1 (€/MWh)     RES    Load  \\\n",
       "2021-08-15 00:00:00                  2.738548  1820.0  5515.5   \n",
       "2021-08-15 01:00:00                  2.375837  1930.0  5299.0   \n",
       "2021-08-15 02:00:00                  2.143069  2000.0  5127.5   \n",
       "2021-08-15 03:00:00                  2.043232  2035.0  5038.0   \n",
       "2021-08-15 04:00:00                  2.227400  2055.0  4951.5   \n",
       "\n",
       "                     Mandatory Hydro  Total FRR  \n",
       "2021-08-15 00:00:00             50.0      914.0  \n",
       "2021-08-15 01:00:00             50.0      939.0  \n",
       "2021-08-15 02:00:00             50.0      949.0  \n",
       "2021-08-15 03:00:00             63.0      939.0  \n",
       "2021-08-15 04:00:00             76.0     1079.0  "
      ]
     },
     "execution_count": 163,
     "metadata": {},
     "output_type": "execute_result"
    }
   ],
   "source": [
    "x = all_data.drop([columns_data[1],columns_data[2],columns_data[3],columns_data[4],columns_data[5],columns_data[6],columns_data[8],columns_data[9],columns_data[14],columns_data[15],columns_data[16],columns_data[17]], axis=1)\n",
    "x.head()"
   ]
  },
  {
   "cell_type": "code",
   "execution_count": 164,
   "metadata": {},
   "outputs": [],
   "source": [
    "from sklearn.model_selection import train_test_split\n",
    "#from sklearn.metrics import accuracy_score\n",
    "\n",
    "\n",
    "train_X, test_X, train_y, test_y = train_test_split(x, y, test_size=0.25)"
   ]
  },
  {
   "cell_type": "code",
   "execution_count": 165,
   "metadata": {},
   "outputs": [
    {
     "data": {
      "text/html": [
       "<div>\n",
       "<style scoped>\n",
       "    .dataframe tbody tr th:only-of-type {\n",
       "        vertical-align: middle;\n",
       "    }\n",
       "\n",
       "    .dataframe tbody tr th {\n",
       "        vertical-align: top;\n",
       "    }\n",
       "\n",
       "    .dataframe thead th {\n",
       "        text-align: right;\n",
       "    }\n",
       "</style>\n",
       "<table border=\"1\" class=\"dataframe\">\n",
       "  <thead>\n",
       "    <tr style=\"text-align: right;\">\n",
       "      <th></th>\n",
       "      <th>Uplift Account 1 (€/MWh)</th>\n",
       "      <th>RES</th>\n",
       "      <th>Load</th>\n",
       "      <th>Mandatory Hydro</th>\n",
       "      <th>Total FRR</th>\n",
       "    </tr>\n",
       "  </thead>\n",
       "  <tbody>\n",
       "    <tr>\n",
       "      <th>2022-01-13 04:00:00</th>\n",
       "      <td>9.529133</td>\n",
       "      <td>2815.0</td>\n",
       "      <td>5509.0</td>\n",
       "      <td>771.0</td>\n",
       "      <td>1271.0</td>\n",
       "    </tr>\n",
       "    <tr>\n",
       "      <th>2021-11-22 22:00:00</th>\n",
       "      <td>10.484127</td>\n",
       "      <td>1635.0</td>\n",
       "      <td>5153.0</td>\n",
       "      <td>13.0</td>\n",
       "      <td>1369.0</td>\n",
       "    </tr>\n",
       "    <tr>\n",
       "      <th>2021-11-30 02:00:00</th>\n",
       "      <td>5.683824</td>\n",
       "      <td>2965.0</td>\n",
       "      <td>4433.0</td>\n",
       "      <td>0.0</td>\n",
       "      <td>1074.0</td>\n",
       "    </tr>\n",
       "    <tr>\n",
       "      <th>2021-11-28 22:00:00</th>\n",
       "      <td>8.373212</td>\n",
       "      <td>2940.0</td>\n",
       "      <td>5014.0</td>\n",
       "      <td>13.0</td>\n",
       "      <td>1714.0</td>\n",
       "    </tr>\n",
       "    <tr>\n",
       "      <th>2021-10-19 07:00:00</th>\n",
       "      <td>10.378846</td>\n",
       "      <td>1960.0</td>\n",
       "      <td>6079.5</td>\n",
       "      <td>78.0</td>\n",
       "      <td>1769.0</td>\n",
       "    </tr>\n",
       "  </tbody>\n",
       "</table>\n",
       "</div>"
      ],
      "text/plain": [
       "                     Uplift Account 1 (€/MWh)     RES    Load  \\\n",
       "2022-01-13 04:00:00                  9.529133  2815.0  5509.0   \n",
       "2021-11-22 22:00:00                 10.484127  1635.0  5153.0   \n",
       "2021-11-30 02:00:00                  5.683824  2965.0  4433.0   \n",
       "2021-11-28 22:00:00                  8.373212  2940.0  5014.0   \n",
       "2021-10-19 07:00:00                 10.378846  1960.0  6079.5   \n",
       "\n",
       "                     Mandatory Hydro  Total FRR  \n",
       "2022-01-13 04:00:00            771.0     1271.0  \n",
       "2021-11-22 22:00:00             13.0     1369.0  \n",
       "2021-11-30 02:00:00              0.0     1074.0  \n",
       "2021-11-28 22:00:00             13.0     1714.0  \n",
       "2021-10-19 07:00:00             78.0     1769.0  "
      ]
     },
     "execution_count": 165,
     "metadata": {},
     "output_type": "execute_result"
    }
   ],
   "source": [
    "train_X.head()"
   ]
  },
  {
   "cell_type": "code",
   "execution_count": 166,
   "metadata": {},
   "outputs": [],
   "source": [
    "from sklearn.preprocessing import StandardScaler, MinMaxScaler, OrdinalEncoder\n",
    "from sklearn.compose import make_column_transformer\n",
    "from sklearn.model_selection import train_test_split\n",
    "\n",
    "num_columns = train_X.columns\n",
    "\n",
    "ct = make_column_transformer(\n",
    "    (MinMaxScaler(), num_columns),\n",
    "    (StandardScaler(), num_columns),\n",
    "    remainder='passthrough'\n",
    ")\n",
    "\n",
    "train_X = ct.fit_transform(train_X)\n",
    "test_X = ct.transform(test_X)"
   ]
  },
  {
   "cell_type": "code",
   "execution_count": 167,
   "metadata": {},
   "outputs": [
    {
     "data": {
      "text/plain": [
       "[<matplotlib.lines.Line2D at 0x23e76c58100>]"
      ]
     },
     "execution_count": 167,
     "metadata": {},
     "output_type": "execute_result"
    },
    {
     "data": {
      "image/png": "[encoded data removed]",
      "text/plain": [
       "<Figure size 432x288 with 1 Axes>"
      ]
     },
     "metadata": {},
     "output_type": "display_data"
    }
   ],
   "source": [
    "# Scale the data to be between -1 and 1\n",
    "rf = RandomForestRegressor(n_jobs=-1)\n",
    "\n",
    "# Try different numbers of n_estimators - this will take a minute or so\n",
    "estimators = np.arange(10, 343, 10)\n",
    "scores = []\n",
    "for n in estimators:\n",
    "    rf.set_params(n_estimators=n)\n",
    "    rf.fit(train_X, train_y)\n",
    "    scores.append(rf.score(test_X, test_y))\n",
    "plt.title(\"Effect of n_estimators\")\n",
    "plt.xlabel(\"n_estimator\")\n",
    "plt.ylabel(\"score\")\n",
    "plt.plot(estimators, scores)"
   ]
  },
  {
   "cell_type": "code",
   "execution_count": 168,
   "metadata": {},
   "outputs": [
    {
     "name": "stdout",
     "output_type": "stream",
     "text": [
      "Random Forest Model RMSE:  88.77672562948254\n",
      "Random Forest Model STD:  546.2811794330651\n"
     ]
    }
   ],
   "source": [
    "rf_score = cross_val_score(rf, x, y, cv=kfolds, scoring='neg_mean_squared_error')\n",
    "rf_rmse =  np.sqrt(-rf_score.mean())\n",
    "# Printing out Ridge Score and STD\n",
    "print(\"Random Forest Model RMSE: \", rf_rmse)\n",
    "print(\"Random Forest Model STD: \", rf_score.std())"
   ]
  },
  {
   "cell_type": "code",
   "execution_count": 169,
   "metadata": {},
   "outputs": [],
   "source": [
    "preds_train=rf.predict(train_X)\n",
    "preds1 = rf.predict(test_X)"
   ]
  },
  {
   "cell_type": "code",
   "execution_count": 170,
   "metadata": {},
   "outputs": [
    {
     "name": "stdout",
     "output_type": "stream",
     "text": [
      "Evaluation on test data\n",
      "RMSE: 85.90\n",
      "R2: 0.25\n",
      "Adjusted R2: 0.25\n"
     ]
    },
    {
     "data": {
      "text/plain": [
       "<matplotlib.legend.Legend at 0x23e4acafc40>"
      ]
     },
     "execution_count": 170,
     "metadata": {},
     "output_type": "execute_result"
    },
    {
     "data": {
      "image/png": "[encoded data removed]",
      "text/plain": [
       "<Figure size 1080x360 with 1 Axes>"
      ]
     },
     "metadata": {},
     "output_type": "display_data"
    }
   ],
   "source": [
    "import math\n",
    "from sklearn.metrics import mean_squared_error, r2_score\n",
    "#RMSE\n",
    "Rmse_test = math.sqrt(mean_squared_error(test_y,preds1))\n",
    "#R2 Score\n",
    "r2_test = r2_score(test_y,preds1)\n",
    "# Adjusted R2 Score\n",
    "n= train_X.shape[0] # total no of datapoints\n",
    "p= train_X.shape[1] # total no of independent features\n",
    "adj_r2_test = 1-(1-r2_test)*(n-1)/(n-p-1)\n",
    "#print results\n",
    "print(\"Evaluation on test data\")\n",
    "print(\"RMSE: {:.2f}\".format(Rmse_test))\n",
    "print(\"R2: {:.2f}\".format(r2_test))\n",
    "print(\"Adjusted R2: {:.2f}\".format(adj_r2_test))\n",
    "\n",
    "\n",
    "output_data_random_forest = pd.DataFrame({\n",
    "                      'Prediction': preds1,'Real': test_y})\n",
    "\n",
    "\n",
    "\n",
    "\n",
    "\n",
    "# An interesting view is looking at the Actual Values and Predicted Values (Label) in a histogram over the entire dataset. This shows the distribution between the values. We can see how the Predicted Values seem to peak in a more distributed manner and skew to the left. \n",
    "plt.figure(figsize=(15,5))\n",
    "sns.set_style(\"whitegrid\")\n",
    "sns.distplot(output_data_random_forest[\"Prediction\"],\n",
    "                bins=20,\n",
    "                kde=False,\n",
    "                color=\"#c6690c\")\n",
    "sns.distplot(output_data_random_forest[\"Real\"],\n",
    "                bins=20,\n",
    "                kde=False,\n",
    "                color=\"#664697\")\n",
    "plt.title(\"Distribution between Actual Value and Predicted Value (Label)\")\n",
    "plt.ylabel(\"Count\")\n",
    "plt.xlabel(\"Recovery Value\")\n",
    "\n",
    "plt.legend((' Value (Actual)', 'Predicted Value (Label)'), ncol=2, loc='upper left', fontsize=12)\n",
    "\n"
   ]
  },
  {
   "cell_type": "code",
   "execution_count": 171,
   "metadata": {},
   "outputs": [],
   "source": [
    "output_data_random_forest.head(50)\n",
    "\n",
    "output_data_random_forest[\"Prediction_sign\"] =  [1 if int(x) >= 0 else 0 for x in output_data_random_forest[\"Prediction\"]]\n",
    "output_data_random_forest[\"Real_sign\"] = [1 if int(x) >= 0 else 0 for x in output_data_random_forest[\"Real\"]]"
   ]
  },
  {
   "cell_type": "code",
   "execution_count": 172,
   "metadata": {},
   "outputs": [],
   "source": [
    "output_data_random_forest.head(50)\n",
    "comparison_column = np.where(output_data_random_forest[\"Prediction_sign\"] == output_data_random_forest[\"Real_sign\"], True, False)"
   ]
  },
  {
   "cell_type": "code",
   "execution_count": 173,
   "metadata": {},
   "outputs": [
    {
     "name": "stdout",
     "output_type": "stream",
     "text": [
      "We have a total of True values :  1016\n"
     ]
    }
   ],
   "source": [
    "count = np.count_nonzero(comparison_column)\n",
    "print(\"We have a total of True values : \" , count)"
   ]
  },
  {
   "cell_type": "code",
   "execution_count": 174,
   "metadata": {},
   "outputs": [
    {
     "name": "stdout",
     "output_type": "stream",
     "text": [
      "Accuracy of True values compared to the total observations : 0.6883468834688347\n"
     ]
    }
   ],
   "source": [
    "print(\"Accuracy of True values compared to the total observations :\" ,count/len(comparison_column))"
   ]
  },
  {
   "cell_type": "code",
   "execution_count": null,
   "metadata": {},
   "outputs": [],
   "source": []
  }
 ],
 "metadata": {
  "kernelspec": {
   "display_name": "Python 3",
   "language": "python",
   "name": "python3"
  },
  "language_info": {
   "codemirror_mode": {
    "name": "ipython",
    "version": 3
   },
   "file_extension": ".py",
   "mimetype": "text/x-python",
   "name": "python",
   "nbconvert_exporter": "python",
   "pygments_lexer": "ipython3",
   "version": "3.8.5"
  }
 },
 "nbformat": 4,
 "nbformat_minor": 4
}

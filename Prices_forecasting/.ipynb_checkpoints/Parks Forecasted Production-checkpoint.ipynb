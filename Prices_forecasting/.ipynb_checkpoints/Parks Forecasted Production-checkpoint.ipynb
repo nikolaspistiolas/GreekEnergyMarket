{
 "cells": [
  {
   "cell_type": "code",
   "execution_count": 1,
   "metadata": {},
   "outputs": [],
   "source": [
    "\n",
    "from urllib.parse import urljoin\n",
    "import datetime as datetime\n",
    "import numpy as np\n",
    "import pandas as pd\n",
    "import matplotlib.pyplot as plt\n",
    "import matplotlib as mpl\n",
    "import seaborn as sns\n",
    "\n",
    "from csv import reader\n",
    "\n",
    "\n",
    "parks_forecast  = pd.read_csv('parks_production.csv')\n",
    "import csv\n",
    "park_names = pd.read_csv('Parks_data_names.csv')"
   ]
  },
  {
   "cell_type": "code",
   "execution_count": 2,
   "metadata": {},
   "outputs": [
    {
     "data": {
      "text/html": [
       "<div>\n",
       "<style scoped>\n",
       "    .dataframe tbody tr th:only-of-type {\n",
       "        vertical-align: middle;\n",
       "    }\n",
       "\n",
       "    .dataframe tbody tr th {\n",
       "        vertical-align: top;\n",
       "    }\n",
       "\n",
       "    .dataframe thead th {\n",
       "        text-align: right;\n",
       "    }\n",
       "</style>\n",
       "<table border=\"1\" class=\"dataframe\">\n",
       "  <thead>\n",
       "    <tr style=\"text-align: right;\">\n",
       "      <th></th>\n",
       "      <th>Date</th>\n",
       "      <th>Asset</th>\n",
       "      <th>Value</th>\n",
       "    </tr>\n",
       "  </thead>\n",
       "  <tbody>\n",
       "    <tr>\n",
       "      <th>0</th>\n",
       "      <td>2022-02-08 00:00:00</td>\n",
       "      <td>ritsona</td>\n",
       "      <td>0.0</td>\n",
       "    </tr>\n",
       "    <tr>\n",
       "      <th>1</th>\n",
       "      <td>2022-02-08 00:15:00</td>\n",
       "      <td>ritsona</td>\n",
       "      <td>0.0</td>\n",
       "    </tr>\n",
       "    <tr>\n",
       "      <th>2</th>\n",
       "      <td>2022-02-08 00:30:00</td>\n",
       "      <td>ritsona</td>\n",
       "      <td>0.0</td>\n",
       "    </tr>\n",
       "    <tr>\n",
       "      <th>3</th>\n",
       "      <td>2022-02-08 00:45:00</td>\n",
       "      <td>ritsona</td>\n",
       "      <td>0.0</td>\n",
       "    </tr>\n",
       "    <tr>\n",
       "      <th>4</th>\n",
       "      <td>2022-02-08 01:00:00</td>\n",
       "      <td>ritsona</td>\n",
       "      <td>0.0</td>\n",
       "    </tr>\n",
       "    <tr>\n",
       "      <th>...</th>\n",
       "      <td>...</td>\n",
       "      <td>...</td>\n",
       "      <td>...</td>\n",
       "    </tr>\n",
       "    <tr>\n",
       "      <th>1729621</th>\n",
       "      <td>2022-05-05 22:45:00</td>\n",
       "      <td>abrakota</td>\n",
       "      <td>0.0</td>\n",
       "    </tr>\n",
       "    <tr>\n",
       "      <th>1729622</th>\n",
       "      <td>2022-05-05 23:00:00</td>\n",
       "      <td>abrakota</td>\n",
       "      <td>0.0</td>\n",
       "    </tr>\n",
       "    <tr>\n",
       "      <th>1729623</th>\n",
       "      <td>2022-05-05 23:15:00</td>\n",
       "      <td>abrakota</td>\n",
       "      <td>0.0</td>\n",
       "    </tr>\n",
       "    <tr>\n",
       "      <th>1729624</th>\n",
       "      <td>2022-05-05 23:30:00</td>\n",
       "      <td>abrakota</td>\n",
       "      <td>0.0</td>\n",
       "    </tr>\n",
       "    <tr>\n",
       "      <th>1729625</th>\n",
       "      <td>2022-05-05 23:45:00</td>\n",
       "      <td>abrakota</td>\n",
       "      <td>0.0</td>\n",
       "    </tr>\n",
       "  </tbody>\n",
       "</table>\n",
       "<p>1729626 rows × 3 columns</p>\n",
       "</div>"
      ],
      "text/plain": [
       "                        Date     Asset  Value\n",
       "0        2022-02-08 00:00:00   ritsona    0.0\n",
       "1        2022-02-08 00:15:00   ritsona    0.0\n",
       "2        2022-02-08 00:30:00   ritsona    0.0\n",
       "3        2022-02-08 00:45:00   ritsona    0.0\n",
       "4        2022-02-08 01:00:00   ritsona    0.0\n",
       "...                      ...       ...    ...\n",
       "1729621  2022-05-05 22:45:00  abrakota    0.0\n",
       "1729622  2022-05-05 23:00:00  abrakota    0.0\n",
       "1729623  2022-05-05 23:15:00  abrakota    0.0\n",
       "1729624  2022-05-05 23:30:00  abrakota    0.0\n",
       "1729625  2022-05-05 23:45:00  abrakota    0.0\n",
       "\n",
       "[1729626 rows x 3 columns]"
      ]
     },
     "execution_count": 2,
     "metadata": {},
     "output_type": "execute_result"
    }
   ],
   "source": [
    "parks_forecast"
   ]
  },
  {
   "cell_type": "code",
   "execution_count": 7,
   "metadata": {},
   "outputs": [
    {
     "data": {
      "text/plain": [
       "0           kalephione_1\n",
       "1            megala_1360\n",
       "2       agrotemakhio_606\n",
       "3                loutsia\n",
       "4                agr_717\n",
       "             ...        \n",
       "110            group_log\n",
       "111              mpaltsa\n",
       "112             murike_7\n",
       "113    khrestos_potamias\n",
       "114       agia_paraskeue\n",
       "Name: Prefix, Length: 115, dtype: object"
      ]
     },
     "execution_count": 7,
     "metadata": {},
     "output_type": "execute_result"
    }
   ],
   "source": [
    "name_per_park = park_names[\"Prefix\"]\n",
    "name_per_park"
   ]
  },
  {
   "cell_type": "code",
   "execution_count": null,
   "metadata": {},
   "outputs": [],
   "source": []
  }
 ],
 "metadata": {
  "kernelspec": {
   "display_name": "Python 3",
   "language": "python",
   "name": "python3"
  },
  "language_info": {
   "codemirror_mode": {
    "name": "ipython",
    "version": 3
   },
   "file_extension": ".py",
   "mimetype": "text/x-python",
   "name": "python",
   "nbconvert_exporter": "python",
   "pygments_lexer": "ipython3",
   "version": "3.8.5"
  }
 },
 "nbformat": 4,
 "nbformat_minor": 4
}
